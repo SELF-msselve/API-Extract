{
 "cells": [
  {
   "cell_type": "code",
   "execution_count": 28,
   "metadata": {},
   "outputs": [
    {
     "name": "stdout",
     "output_type": "stream",
     "text": [
      "Archivo vacio\n"
     ]
    }
   ],
   "source": [
    "import requests\n",
    "import pandas as pd\n",
    "\n",
    "ciudad = 'cacharel'\n",
    "pais = 'argentina'\n",
    "\n",
    "buscador = 'https://api.api-ninjas.com/v1/geocoding?city=' + ciudad + '&country=' + pais\n",
    "\n",
    "direccion = requests.get(buscador, headers={'X-Api-Key': 'YO3DOw3APQguBKsqQq0nMA==acw96vJrBQsSnpeG'})\n",
    "\n",
    "direccion_dict = direccion.json()\n",
    "\n",
    "if len(direccion_dict) == 0:\n",
    "    print('Archivo vacio')\n",
    "else:\n",
    "    print(direccion_dict)\n",
    "    "
   ]
  },
  {
   "cell_type": "code",
   "execution_count": 9,
   "metadata": {},
   "outputs": [
    {
     "data": {
      "text/plain": [
       "-46.472374599999995"
      ]
     },
     "execution_count": 9,
     "metadata": {},
     "output_type": "execute_result"
    }
   ],
   "source": [
    "direccion_dict = direccion.json()\n",
    "direccion_pd = pd.DataFrame.from_dict(direccion_dict)\n",
    "\n",
    "direccion_pd.iloc[0,1]\n"
   ]
  },
  {
   "cell_type": "code",
   "execution_count": 3,
   "metadata": {},
   "outputs": [
    {
     "data": {
      "text/plain": [
       "'https://api.open-meteo.com/v1/forecast?latitude=-36.2302232&longitude=-61.114254&hourly=temperature_2m,precipitation_probability,surface_pressure,wind_speed_10m&forecast_days=10'"
      ]
     },
     "execution_count": 3,
     "metadata": {},
     "output_type": "execute_result"
    }
   ],
   "source": [
    "fechaStart = '2024-03-09'\n",
    "fechafin = '2024-03-10'\n",
    "#clima = 'https://api.open-meteo.com/v1/forecast?latitude=' + str(direccion_pd.iloc[0,1]) + '&longitude=' + str(direccion_pd.iloc[0,2]) + '&hourly=temperature_2m,wind_speed_10m&start_date=' + fechaStart + '&end_date=' + fechafin\n",
    "clima = 'https://api.open-meteo.com/v1/forecast?latitude=' + str(direccion_pd.iloc[0,1]) + '&longitude=' + str(direccion_pd.iloc[0,2]) + '&hourly=temperature_2m,precipitation_probability,surface_pressure,wind_speed_10m&forecast_days=10'\n",
    "clima"
   ]
  },
  {
   "cell_type": "code",
   "execution_count": 4,
   "metadata": {},
   "outputs": [],
   "source": [
    "response = requests.get(clima)\n",
    "response_dict = response.json()\n",
    "new = pd.DataFrame.from_dict(response_dict['hourly'])"
   ]
  },
  {
   "cell_type": "code",
   "execution_count": null,
   "metadata": {},
   "outputs": [],
   "source": [
    "new\n"
   ]
  }
 ],
 "metadata": {
  "kernelspec": {
   "display_name": "base",
   "language": "python",
   "name": "python3"
  },
  "language_info": {
   "codemirror_mode": {
    "name": "ipython",
    "version": 3
   },
   "file_extension": ".py",
   "mimetype": "text/x-python",
   "name": "python",
   "nbconvert_exporter": "python",
   "pygments_lexer": "ipython3",
   "version": "3.9.12"
  }
 },
 "nbformat": 4,
 "nbformat_minor": 2
}
