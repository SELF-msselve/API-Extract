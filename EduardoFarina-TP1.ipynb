{
 "cells": [
  {
   "cell_type": "markdown",
   "metadata": {},
   "source": [
    "# UTN - Data Engineering - Modulo 1 - TP1\n",
    "## Extracción de datos y almacenamiento.\n",
    "\n",
    "El Trabajo Practico consiste en extraer la temperatura, presion y velocidad del viento de una ciudad.\n",
    "Estos datos posteriormente se utilizaran en Data Analytics para determinar si existe alguna relacion entre la temperatura-presion y la velocidad del viento en superficie.\n",
    "\n",
    "Como parte del proceso, para extraer los datos, se requiere conocer las coordenadas geograficas de la ciudad estudiada.\n",
    "El usuario ingresa la ciudad y el pais al que pertenece la ciudad.\n",
    "\n",
    "La consulta a una API busca estos datos y devuelve las coordenas. Informacion que se guarda en un directorio en formato csv. \n",
    "\n",
    "Luego una segunda consulta a una API del clima utilizando las coordenadas obtenidas devuelve la informacion de la temperatura, presion y velocidad del viento.\n",
    "La consulta se realiza para un rango de fechas ingresadas por el usuario.\n",
    "\n",
    "La informacion obtenida se guarda en forma de parquet Incremental en el archivo data.parquet. Dentro del directorio 'bronce' correspondiente a la ciudad seleccionada.\n"
   ]
  },
  {
   "cell_type": "markdown",
   "metadata": {},
   "source": [
    "### Se instalan las librerias principales"
   ]
  },
  {
   "cell_type": "code",
   "execution_count": null,
   "metadata": {},
   "outputs": [],
   "source": [
    "!pip install requests\n",
    "!pip install fastparquet\n",
    "!pip install pandas"
   ]
  },
  {
   "cell_type": "markdown",
   "metadata": {},
   "source": [
    "### Se importan las Librerias\n",
    "\n",
    "Importo las libreria request para poder generar los get().\n",
    "\n",
    "Importo Pandas para el manejo de Data Frames.\n",
    "\n",
    "Importo os para el manejo de carpetas y archivos."
   ]
  },
  {
   "cell_type": "code",
   "execution_count": 2,
   "metadata": {},
   "outputs": [],
   "source": [
    "import requests\n",
    "import pandas as pd\n",
    "import os"
   ]
  },
  {
   "cell_type": "markdown",
   "metadata": {},
   "source": [
    "### Seccion funciones que extraen de las API\n",
    "\n",
    "En esta seccion se crean las funciones que extraen los datos de las API.\n",
    "\n",
    "Genera dos funciones porque todavia mi capacidad de programador no me permite darme cuenta como hacer una sola funcion que sirva en multiples API."
   ]
  },
  {
   "cell_type": "code",
   "execution_count": 3,
   "metadata": {},
   "outputs": [],
   "source": [
    "# Esta funcion extrae las coordenadas geograficas de la ciudad ingresada.\n",
    "# Devuelve un df con los resultados.\n",
    "\n",
    "def get_city(cityName, country, headers):\n",
    "    # URL de la API incluyendo la ciudad y el pais ingresados por el usuario\n",
    "    baseUrl = 'https://api.api-ninjas.com/v1/geocoding?city=' + cityName + '&country=' + country\n",
    "    \n",
    "    response = requests.get(baseUrl, headers)\n",
    "    \n",
    "    adress = response.json()\n",
    "    # Se verifica si se encontro o no la ciudad buscada.\n",
    "    # De encontrarse la ciudad se genera un Data Frame.\n",
    "    if len(adress) == 0:\n",
    "        print('Ciudad no encontrada')\n",
    "        return pd.DataFrame()\n",
    "    else:\n",
    "        return pd.DataFrame.from_dict(adress)\n",
    "\n",
    "# Esta funcion extrae la temperatura, presion y velociad del viento.       \n",
    "def get_weather(cityCoord, fechaStart, fechafin):\n",
    "    \n",
    "    # URL de la API de consulta para extrar temp., pres. y velocidad del viento para las coordenadas de la ciudad.\n",
    "    # Se leen las coordenadas del df obtenido en la consulta anterior.\n",
    "    clima = 'https://api.open-meteo.com/v1/forecast?latitude=' + str(cityCoord.iloc[0,1]) + '&longitude=' + str(cityCoord.iloc[0,2]) + '&hourly=temperature_2m,wind_speed_10m&start_date=' + fechaStart + '&end_date=' + fechafin\n",
    "    \n",
    "    response = requests.get(clima)\n",
    "    response_dict = response.json()\n",
    "    \n",
    "    # Se genera un Data Frame del json sin el encabezado, solo de la tabla de resultados en forma horaria.\n",
    "    return pd.DataFrame.from_dict(response_dict['hourly'])\n",
    "    "
   ]
  },
  {
   "cell_type": "markdown",
   "metadata": {},
   "source": [
    "### Seccion funciones de verificacion de datos\n",
    "\n",
    "En esta seccion se colocan las funciones que verifican si los datos son correctos o se deben corregir."
   ]
  },
  {
   "cell_type": "code",
   "execution_count": 4,
   "metadata": {},
   "outputs": [],
   "source": [
    "# Esta funcion intentria verificar si se encuentra mas de una ciudad con el mismo nombre en un mismo pais.\n",
    "# Si la API devuelve mas de una fila con respuesta se muestre el resultado y se le pide que por consola elija una opcion.\n",
    "# Es un poco precario, pero hasta el momento es lo que pude hacer. Si se pone 'Pico Truncado' Argentina. La API devuelve 4 resultados.\n",
    "# En este caso el usuario debe elegir un numero entre 0 y 3 para que solo haya una valor.\n",
    "# La funcion devuelve el df cun una sola fila que incluye la ciudad y las coordenadas.\n",
    "\n",
    "def check_city(cityCoordDf):\n",
    "    if len(cityCoordDf) == 0:\n",
    "        print('Por favor ingrese correctamente el nombre de la ciudad')\n",
    "    elif len(cityCoordDf) == 1:\n",
    "        print('Ciudad encontrada correctamente')\n",
    "        print(cityCoordDf.iloc[0,0])\n",
    "        return cityCoordDf\n",
    "    else:\n",
    "        print(cityCoordDf)\n",
    "        num = int(input(\"Elija el numero de la ciudad deseada: \"))\n",
    "        return pd.DataFrame(cityCoordDf.iloc[num,]).transpose()\n",
    "        "
   ]
  },
  {
   "cell_type": "markdown",
   "metadata": {},
   "source": [
    "### Seccion Resguardo de Datos\n",
    "\n",
    "En esta seccion se crean las funciones de resguardo de los datos.\n",
    "\n",
    "Una funcion para los datos de la ciudad y otra para los datos del clima."
   ]
  },
  {
   "cell_type": "code",
   "execution_count": 5,
   "metadata": {},
   "outputs": [],
   "source": [
    "# Genera el directorio con el nombre de la ciudad seleccionada\n",
    "# Guarda los datos de la ciudad en formato csv, archivo simple de una sola line.\n",
    "\n",
    "def saveDataCity(df):\n",
    "    # variables del path del directorio y el nombre del archivo con la ciudad\n",
    "    directoryPath = 'weather/' + df.iloc[0,0] + '/'\n",
    "    dfName = directoryPath + df.iloc[0,0] + '.csv'\n",
    "    # Verifica la existencia del directorio. Si no existe lo crea.\n",
    "    directory = os.path.dirname(directoryPath)\n",
    "    if directory and not os.path.exists(directory):\n",
    "        os.makedirs(directory)\n",
    "    # Guarda el archivo de la ciudad en el directorio\n",
    "    df.to_csv(dfName, sep='\\t')\n",
    "       \n",
    "# Guarda en formato parquet los datos obtenidos para la ciudad elejida.\n",
    "# Esta funcion, realiza un resguardo en formato parquet, tando de un df nuevo\n",
    "# como de uno existente al que se le agrega nueva informacion (parquet incremental)\n",
    "def saveDataParquet(df, cityCoord, partitionCols=None):\n",
    "    # Variable con el path y el nombre del archivo\n",
    "    directoryPath = 'weather/' + cityCoord.iloc[0,0] + '/bronce/data.parquet'\n",
    "    # Como el archivo parquet se guarda multiples veces, primero verifica si existe el directorio bronce\n",
    "    # dentro del directorio de la ciudad. Si no existe lo crea.\n",
    "    directory = os.path.dirname(directoryPath)\n",
    "    if directory and not os.path.exists(directory):\n",
    "        os.makedirs(directory)\n",
    "    # Verifica si existe ya un archivo data.parquet\n",
    "    # si existe lo lee y lo guarda en formato df. Luego le agrega la nueva consulta.\n",
    "    # Si no existe, no hace nada, porque en el paso siguiente se guarda el df.\n",
    "    if os.path.exists(directoryPath):\n",
    "        df2 = pd.read_parquet(directoryPath)\n",
    "        df = df2.append(df)\n",
    "        os.remove(directoryPath)\n",
    "    # Aca se guarda el df en formato parquet ya sea el nuevo archivo o el que haya sufrido un append.\n",
    "    df.to_parquet(directoryPath)\n",
    "    \n",
    "    "
   ]
  },
  {
   "cell_type": "markdown",
   "metadata": {},
   "source": [
    "### Ingreso de datos para extraccion\n",
    "\n",
    "Seccion para ingresar los datos y trabajar con las API."
   ]
  },
  {
   "cell_type": "code",
   "execution_count": 13,
   "metadata": {},
   "outputs": [],
   "source": [
    "# Ingreso la ciudad a buscar.\n",
    "cityName = 'comodoro rivadavia'\n",
    "country = 'argentina'\n",
    "\n",
    "# Esta API requiere de un Key y se puede utilizar esta, no hay problema.\n",
    "headers = {'X-Api-Key': 'YO3DOw3APQguBKsqQq0nMA==acw96vJrBQsSnpeG'}\n",
    "\n",
    "# Se llama a la funcion.\n",
    "cityCoordDf = get_city(cityName, country, headers)"
   ]
  },
  {
   "cell_type": "code",
   "execution_count": 14,
   "metadata": {},
   "outputs": [
    {
     "name": "stdout",
     "output_type": "stream",
     "text": [
      "Ciudad encontrada correctamente\n",
      "Comodoro Rivadavia\n",
      "                 name   latitude  longitude country            state\n",
      "0  Comodoro Rivadavia -45.863202 -67.475262      AR  Chubut Province\n"
     ]
    }
   ],
   "source": [
    "# Se llama a la funcion de control de las ciudades por si la respuesta no es unica.\n",
    "# Hago una salvedad. Se podria poner todo en la misma funcion. Si me da el tiempo lo obtimizo.\n",
    "# Lo realizo por partes, por inseguridad en la programacion y por control paso a paso.\n",
    "cityCoord = check_city(cityCoordDf)\n",
    "\n",
    "print(cityCoord)"
   ]
  },
  {
   "cell_type": "code",
   "execution_count": 15,
   "metadata": {},
   "outputs": [],
   "source": [
    "# Genero el directorio para esa ciudad\n",
    "# Y guardo las coordenadas Geograficas en un archivo csv\n",
    "saveDataCity(cityCoord)\n"
   ]
  },
  {
   "cell_type": "code",
   "execution_count": 16,
   "metadata": {},
   "outputs": [
    {
     "data": {
      "text/html": [
       "<div>\n",
       "<style scoped>\n",
       "    .dataframe tbody tr th:only-of-type {\n",
       "        vertical-align: middle;\n",
       "    }\n",
       "\n",
       "    .dataframe tbody tr th {\n",
       "        vertical-align: top;\n",
       "    }\n",
       "\n",
       "    .dataframe thead th {\n",
       "        text-align: right;\n",
       "    }\n",
       "</style>\n",
       "<table border=\"1\" class=\"dataframe\">\n",
       "  <thead>\n",
       "    <tr style=\"text-align: right;\">\n",
       "      <th></th>\n",
       "      <th>time</th>\n",
       "      <th>temperature_2m</th>\n",
       "      <th>wind_speed_10m</th>\n",
       "    </tr>\n",
       "  </thead>\n",
       "  <tbody>\n",
       "    <tr>\n",
       "      <th>0</th>\n",
       "      <td>2024-03-17T00:00</td>\n",
       "      <td>14.3</td>\n",
       "      <td>44.3</td>\n",
       "    </tr>\n",
       "    <tr>\n",
       "      <th>1</th>\n",
       "      <td>2024-03-17T01:00</td>\n",
       "      <td>13.5</td>\n",
       "      <td>43.7</td>\n",
       "    </tr>\n",
       "    <tr>\n",
       "      <th>2</th>\n",
       "      <td>2024-03-17T02:00</td>\n",
       "      <td>12.9</td>\n",
       "      <td>40.8</td>\n",
       "    </tr>\n",
       "    <tr>\n",
       "      <th>3</th>\n",
       "      <td>2024-03-17T03:00</td>\n",
       "      <td>12.6</td>\n",
       "      <td>38.0</td>\n",
       "    </tr>\n",
       "    <tr>\n",
       "      <th>4</th>\n",
       "      <td>2024-03-17T04:00</td>\n",
       "      <td>12.5</td>\n",
       "      <td>39.2</td>\n",
       "    </tr>\n",
       "  </tbody>\n",
       "</table>\n",
       "</div>"
      ],
      "text/plain": [
       "               time  temperature_2m  wind_speed_10m\n",
       "0  2024-03-17T00:00            14.3            44.3\n",
       "1  2024-03-17T01:00            13.5            43.7\n",
       "2  2024-03-17T02:00            12.9            40.8\n",
       "3  2024-03-17T03:00            12.6            38.0\n",
       "4  2024-03-17T04:00            12.5            39.2"
      ]
     },
     "execution_count": 16,
     "metadata": {},
     "output_type": "execute_result"
    }
   ],
   "source": [
    "# Como la ciudad se extrajo con exito\n",
    "# Ahora consulto el clima\n",
    "\n",
    "# Antes se consulta las fechas a extraer.\n",
    "fechaStart = '2024-03-17'\n",
    "fechafin = '2024-03-27'\n",
    "\n",
    "# Se crea el df llamando a la funcion para extraer el clima.\n",
    "weather = get_weather(cityCoord, fechaStart, fechafin)\n",
    "\n",
    "weather.head()"
   ]
  },
  {
   "cell_type": "code",
   "execution_count": 17,
   "metadata": {},
   "outputs": [],
   "source": [
    "# Se resguarda en formato parquet los datos del clima\n",
    "# Se puede realizar otra consulta para otras fechas repitiendo el paso anterior\n",
    "# Tambien se podria generar un script que se repita todos los dias, etc.\n",
    "\n",
    "saveDataParquet(weather,cityCoord)"
   ]
  }
 ],
 "metadata": {
  "kernelspec": {
   "display_name": "Python 3",
   "language": "python",
   "name": "python3"
  },
  "language_info": {
   "codemirror_mode": {
    "name": "ipython",
    "version": 3
   },
   "file_extension": ".py",
   "mimetype": "text/x-python",
   "name": "python",
   "nbconvert_exporter": "python",
   "pygments_lexer": "ipython3",
   "version": "3.9.16"
  }
 },
 "nbformat": 4,
 "nbformat_minor": 2
}
