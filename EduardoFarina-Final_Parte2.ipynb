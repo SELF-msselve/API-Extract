{
 "cells": [
  {
   "cell_type": "markdown",
   "metadata": {},
   "source": [
    "# UTN - Data Engineering - Modulo 2 - TP2\n",
    "## Procesamiento de datos y almacenamiento OLAP.\n",
    "\n",
    "En el TP1 se extrajo de una API la temperatura, presion y velocidad del viento almacenandolos en forma cruda.\n",
    "A continuacion en este TP se van a realizar una seria de transformaciones (a pedido del cliente) a estos datos.\n",
    "\n",
    "El Cliente solicito trabajar por ciudad, tal cual fueron almacenados los datos crudos en sistema Parquet.\n",
    "Los datos de cada ciudad necesitan ser trabajados para luego pode analizarlos. Las transformaciones solicitadas fueron las siguientes:\n",
    "\n",
    "1. Eliminar los datos duplicados, dejando el ultimo valor encontrado.\n",
    "2. Completar si existen los valores nulos con 99999.\n",
    "3. Poner las fechas en formato time.\n",
    "4. Generar nuevas columnas con el 'Año', 'Mes', 'Hora' de los datos obtenidos.\n",
    "5. Renombrar las columnas a un formato standar seleccionado por el cliente.\n",
    "6. Armar tres tablas de la siguiente forma:\n",
    "    1. Tabla 1 - Los datos completos procesados anteriormente.\n",
    "    2. Tabla 2 - Los datos que corresponden a un rango horario diurno.\n",
    "    3. Tabla 3 - Los datos que corresponden a un rango harario nocturno.\n",
    "\n",
    "Las tablas las silocita el cliente de esta forma porque necesita analizar el comportamiento del viento en superficie (como fn. de la temp y la pres) segun sea de dia o de noche. A su vez necesita analizar la data comleta para comparar resultados.\n"
   ]
  },
  {
   "cell_type": "markdown",
   "metadata": {},
   "source": [
    "### Se instalan las librerias principales"
   ]
  },
  {
   "cell_type": "code",
   "execution_count": null,
   "metadata": {},
   "outputs": [],
   "source": [
    "#Se instalan las librerias utilizadas para la conexioncon la DB y se actualiza Pandas\n",
    "!pip install psycopg2-binary\n",
    "!pip install sqlalchemy\n",
    "!pip install pandas\n",
    "!pip install fastparquet"
   ]
  },
  {
   "cell_type": "markdown",
   "metadata": {},
   "source": [
    "### Se importan las Librerias\n",
    "\n",
    "Importo Pandas para el manejo de Data Frames.\n",
    "\n",
    "Importo datetime para el manejo de las Fechas y las horas. Sobre todo en el split (%Y, %M, %H) que solicita el cliente.\n",
    "\n",
    "Importo sqlalchemy para la coneccion con la Base de Datos y las tablas.\n"
   ]
  },
  {
   "cell_type": "code",
   "execution_count": 1,
   "metadata": {},
   "outputs": [
    {
     "name": "stderr",
     "output_type": "stream",
     "text": [
      "/Users/eduardo/opt/anaconda3/lib/python3.9/site-packages/pandas/core/computation/expressions.py:21: UserWarning: Pandas requires version '2.8.4' or newer of 'numexpr' (version '2.8.1' currently installed).\n",
      "  from pandas.core.computation.check import NUMEXPR_INSTALLED\n",
      "/Users/eduardo/opt/anaconda3/lib/python3.9/site-packages/pandas/core/arrays/masked.py:60: UserWarning: Pandas requires version '1.3.6' or newer of 'bottleneck' (version '1.3.4' currently installed).\n",
      "  from pandas.core import (\n"
     ]
    }
   ],
   "source": [
    "import pandas as pd\n",
    "import os.path\n",
    "from datetime import datetime\n",
    "from sqlalchemy import create_engine, MetaData, Table, Column, String, Float, Integer, Date, Time\n",
    "import psycopg2\n",
    "\n",
    "from sqlalchemy import create_engine\n",
    "from sqlalchemy.sql import text"
   ]
  },
  {
   "cell_type": "markdown",
   "metadata": {},
   "source": [
    "### Seccion de Funciones soporte."
   ]
  },
  {
   "cell_type": "code",
   "execution_count": 2,
   "metadata": {},
   "outputs": [],
   "source": [
    "#Creo una funcion para verificar que la ciudad exista y tenga un archivo data en bronce.\n",
    "#Si el archivo existe se carga en un DataFrame.\n",
    "#Si no existe se emite un msg avisando que la ciudad no existe.\n",
    "def loadData(city):\n",
    "    directoryPath = 'weather/' + city + '/bronce/data.parquet'\n",
    "\n",
    "    if os.path.exists(directoryPath):\n",
    "        df = pd.read_parquet(directoryPath)\n",
    "        print(f\"Los datos de la ciudad '{city}' fueron cargados con exito.\")\n",
    "    else:\n",
    "        print(f\"La ciudad '{city}' no existe.\")\n",
    "        df = pd.DataFrame()\n",
    "    return df\n",
    "\n",
    "#Funcion para crear las tablas en la base de datos Postgresql y actualizarlas incrementalmente con los df.\n",
    "#Esta funcion se conecta a la base de datos con las credenciales y crea, si no exite una tabla\n",
    "#con el nombre que se la pasa a la funcion y se actualiza con el df pasado por la funcion\n",
    "\n",
    "def createDataBaseTable(tableName, df_pass): #se pasa el nombre de la tabla deseada y el data frame.\n",
    "    #Conexion con la base de datos\n",
    "    # Definimos el string de conexión\n",
    "    host = \"postgresql-eduardofarina-self-01.a.aivencloud.com\"\n",
    "    port = 27648\n",
    "    database = \"defaultdb\"\n",
    "    username = \"avnadmin\"\n",
    "    password = \"AVNS_HnesWmqFpCrMBE477T8\"\n",
    "\n",
    "    conn_string = f\"postgresql://{username}:{password}@{host}:{port}/{database}\"\n",
    "\n",
    "    engine = create_engine(conn_string)\n",
    "\n",
    "    create_table_query = text(f\"\"\"CREATE TABLE IF NOT EXISTS {tableName} (\n",
    "                            id SERIAL PRIMARY KEY,\n",
    "                            time TIMESTAMP,\n",
    "                            temp FLOAT,\n",
    "                            speed FLOAT,\n",
    "                            pres FLOAT,\n",
    "                            year VARCHAR(50),\n",
    "                            month VARCHAR(50),\n",
    "                            hour INTEGER);\n",
    "                         \"\"\")\n",
    "    with engine.connect() as conn, conn.begin():\n",
    "        conn.execute(create_table_query)\n",
    "    print(f\"Tabla {tableName} creada exitosamente en PostgreSQL \")\n",
    "    \n",
    "    # Consulta SQL para insertar datos en la tabla\n",
    "    # Se utiliza el df que se pasa en la funcion.\n",
    "    with engine.connect() as conn, conn.begin():\n",
    "        df_pass.to_sql(\n",
    "            tableName,\n",
    "            schema=\"public\",\n",
    "            con=conn,\n",
    "            if_exists=\"append\",\n",
    "            method=\"multi\",\n",
    "            index=False\n",
    "        )\n",
    "    print(\"Conexión a PostgreSQL cerrada\")"
   ]
  },
  {
   "cell_type": "markdown",
   "metadata": {},
   "source": [
    "### Seccion Recupero de la informacion extraida de la API.\n",
    "\n",
    "En este paso se recupera la informacion guardada en formato Parquet para una ciudad en particular."
   ]
  },
  {
   "cell_type": "code",
   "execution_count": 3,
   "metadata": {},
   "outputs": [
    {
     "name": "stdout",
     "output_type": "stream",
     "text": [
      "Los datos de la ciudad 'Pico Truncado' fueron cargados con exito.\n"
     ]
    },
    {
     "data": {
      "text/html": [
       "<div>\n",
       "<style scoped>\n",
       "    .dataframe tbody tr th:only-of-type {\n",
       "        vertical-align: middle;\n",
       "    }\n",
       "\n",
       "    .dataframe tbody tr th {\n",
       "        vertical-align: top;\n",
       "    }\n",
       "\n",
       "    .dataframe thead th {\n",
       "        text-align: right;\n",
       "    }\n",
       "</style>\n",
       "<table border=\"1\" class=\"dataframe\">\n",
       "  <thead>\n",
       "    <tr style=\"text-align: right;\">\n",
       "      <th></th>\n",
       "      <th>time</th>\n",
       "      <th>temperature_2m</th>\n",
       "      <th>wind_speed_10m</th>\n",
       "      <th>surface_pressure</th>\n",
       "    </tr>\n",
       "    <tr>\n",
       "      <th>index</th>\n",
       "      <th></th>\n",
       "      <th></th>\n",
       "      <th></th>\n",
       "      <th></th>\n",
       "    </tr>\n",
       "  </thead>\n",
       "  <tbody>\n",
       "    <tr>\n",
       "      <th>0</th>\n",
       "      <td>2024-01-01T00:00</td>\n",
       "      <td>22.6</td>\n",
       "      <td>28.6</td>\n",
       "      <td>976.6</td>\n",
       "    </tr>\n",
       "    <tr>\n",
       "      <th>1</th>\n",
       "      <td>2024-01-01T01:00</td>\n",
       "      <td>20.0</td>\n",
       "      <td>23.1</td>\n",
       "      <td>977.4</td>\n",
       "    </tr>\n",
       "    <tr>\n",
       "      <th>2</th>\n",
       "      <td>2024-01-01T02:00</td>\n",
       "      <td>18.2</td>\n",
       "      <td>17.0</td>\n",
       "      <td>978.3</td>\n",
       "    </tr>\n",
       "    <tr>\n",
       "      <th>3</th>\n",
       "      <td>2024-01-01T03:00</td>\n",
       "      <td>16.7</td>\n",
       "      <td>13.3</td>\n",
       "      <td>978.7</td>\n",
       "    </tr>\n",
       "    <tr>\n",
       "      <th>4</th>\n",
       "      <td>2024-01-01T04:00</td>\n",
       "      <td>15.3</td>\n",
       "      <td>9.1</td>\n",
       "      <td>979.3</td>\n",
       "    </tr>\n",
       "  </tbody>\n",
       "</table>\n",
       "</div>"
      ],
      "text/plain": [
       "                   time  temperature_2m  wind_speed_10m  surface_pressure\n",
       "index                                                                    \n",
       "0      2024-01-01T00:00            22.6            28.6             976.6\n",
       "1      2024-01-01T01:00            20.0            23.1             977.4\n",
       "2      2024-01-01T02:00            18.2            17.0             978.3\n",
       "3      2024-01-01T03:00            16.7            13.3             978.7\n",
       "4      2024-01-01T04:00            15.3             9.1             979.3"
      ]
     },
     "execution_count": 3,
     "metadata": {},
     "output_type": "execute_result"
    }
   ],
   "source": [
    "#En esta variable se solicita la ciudad en particular que deseamos levantar la informacion.\n",
    "city = 'Pico Truncado'\n",
    "#Se envia la ciudad a la Funcion de verificacion y carga de los datos\n",
    "df = loadData(city)\n",
    "#Se muestra en encabezado del df.\n",
    "df.head()"
   ]
  },
  {
   "cell_type": "markdown",
   "metadata": {},
   "source": [
    "### Seccion de Transformacion de la informacion"
   ]
  },
  {
   "cell_type": "code",
   "execution_count": 4,
   "metadata": {},
   "outputs": [],
   "source": [
    "#Se eliminan los datos duplicados dejando el ultimo bajado.\n",
    "#No se realiza un sort, porque lo que se busca es dejar el ultimo dato duplicado que se haya bajado de la API.\n",
    "#Ej. un dia se bajan xx cantidad de datos hasta una fecha. Y luego otro dia despues se bajan las mismas fechas.\n",
    "#Como son pronosticos del clima, el Cliente considera que es de esperar que los ultimos datos tengan mayor certeza.\n",
    "\n",
    "df.drop_duplicates(subset=None, keep='last', inplace=True, ignore_index=False)"
   ]
  },
  {
   "cell_type": "code",
   "execution_count": 5,
   "metadata": {},
   "outputs": [],
   "source": [
    "#Si existen se reemplazan los valores nulos por 99999.\n",
    "\n",
    "df.fillna(value=99999, method=None, axis=None, inplace=True)"
   ]
  },
  {
   "cell_type": "code",
   "execution_count": 6,
   "metadata": {},
   "outputs": [],
   "source": [
    "#Aca se convierte la columna FechaTHora en formato Fecha Hora para cargar en la Base de Datos.\n",
    "\n",
    "df['time'] = pd.to_datetime(df['time'])\n",
    "\n",
    "#Se hace un split de esa fecha en Año, Mes y hora de cada dato registrado.\n",
    "#Se crean nuevas columnas.\n",
    "df['year'] = df['time'].dt.strftime('%Y')\n",
    "df['month'] = df['time'].dt.strftime('%m')\n",
    "df['hour'] = df['time'].dt.strftime('%H').astype(int)\n"
   ]
  },
  {
   "cell_type": "code",
   "execution_count": 7,
   "metadata": {},
   "outputs": [],
   "source": [
    "#Se renombran las columnas en un formato standar a pedido del cliente.\n",
    "df.rename(columns={'temperature_2m': 'temp', 'wind_speed_10m': 'speed', 'surface_pressure': 'pres'}, inplace=True)\n"
   ]
  },
  {
   "cell_type": "code",
   "execution_count": 8,
   "metadata": {},
   "outputs": [],
   "source": [
    "#Se crean dos nuevos DataFrames uno con los datos correspondientes al horario diurno.\n",
    "#Otro con los datos correspondientes a la noche.\n",
    "\n",
    "#Split de horarios Diurnos\n",
    "df_day = df.loc[df['hour'].between(8, 19)]\n",
    "\n",
    "#Por la negativa (~), split de horarios nocturnos\n",
    "df_night = df.loc[~df['hour'].between(8, 19)]"
   ]
  },
  {
   "cell_type": "code",
   "execution_count": 26,
   "metadata": {},
   "outputs": [
    {
     "data": {
      "text/html": [
       "<div>\n",
       "<style scoped>\n",
       "    .dataframe tbody tr th:only-of-type {\n",
       "        vertical-align: middle;\n",
       "    }\n",
       "\n",
       "    .dataframe tbody tr th {\n",
       "        vertical-align: top;\n",
       "    }\n",
       "\n",
       "    .dataframe thead th {\n",
       "        text-align: right;\n",
       "    }\n",
       "</style>\n",
       "<table border=\"1\" class=\"dataframe\">\n",
       "  <thead>\n",
       "    <tr style=\"text-align: right;\">\n",
       "      <th></th>\n",
       "      <th>time</th>\n",
       "      <th>temp</th>\n",
       "      <th>speed</th>\n",
       "      <th>pres</th>\n",
       "      <th>year</th>\n",
       "      <th>month</th>\n",
       "      <th>hour</th>\n",
       "    </tr>\n",
       "  </thead>\n",
       "  <tbody>\n",
       "    <tr>\n",
       "      <th>1</th>\n",
       "      <td>2024-01-01 01:00:00</td>\n",
       "      <td>20.0</td>\n",
       "      <td>23.1</td>\n",
       "      <td>977.4</td>\n",
       "      <td>2024</td>\n",
       "      <td>01</td>\n",
       "      <td>1</td>\n",
       "    </tr>\n",
       "    <tr>\n",
       "      <th>2</th>\n",
       "      <td>2024-01-01 02:00:00</td>\n",
       "      <td>18.2</td>\n",
       "      <td>17.0</td>\n",
       "      <td>978.3</td>\n",
       "      <td>2024</td>\n",
       "      <td>01</td>\n",
       "      <td>2</td>\n",
       "    </tr>\n",
       "    <tr>\n",
       "      <th>25</th>\n",
       "      <td>2024-01-02 01:00:00</td>\n",
       "      <td>15.9</td>\n",
       "      <td>22.9</td>\n",
       "      <td>977.9</td>\n",
       "      <td>2024</td>\n",
       "      <td>01</td>\n",
       "      <td>1</td>\n",
       "    </tr>\n",
       "    <tr>\n",
       "      <th>26</th>\n",
       "      <td>2024-01-02 02:00:00</td>\n",
       "      <td>15.1</td>\n",
       "      <td>22.1</td>\n",
       "      <td>977.9</td>\n",
       "      <td>2024</td>\n",
       "      <td>01</td>\n",
       "      <td>2</td>\n",
       "    </tr>\n",
       "    <tr>\n",
       "      <th>49</th>\n",
       "      <td>2024-01-03 01:00:00</td>\n",
       "      <td>25.1</td>\n",
       "      <td>18.3</td>\n",
       "      <td>975.7</td>\n",
       "      <td>2024</td>\n",
       "      <td>01</td>\n",
       "      <td>1</td>\n",
       "    </tr>\n",
       "    <tr>\n",
       "      <th>...</th>\n",
       "      <td>...</td>\n",
       "      <td>...</td>\n",
       "      <td>...</td>\n",
       "      <td>...</td>\n",
       "      <td>...</td>\n",
       "      <td>...</td>\n",
       "      <td>...</td>\n",
       "    </tr>\n",
       "    <tr>\n",
       "      <th>2018</th>\n",
       "      <td>2024-03-25 02:00:00</td>\n",
       "      <td>13.7</td>\n",
       "      <td>18.6</td>\n",
       "      <td>981.8</td>\n",
       "      <td>2024</td>\n",
       "      <td>03</td>\n",
       "      <td>2</td>\n",
       "    </tr>\n",
       "    <tr>\n",
       "      <th>2041</th>\n",
       "      <td>2024-03-26 01:00:00</td>\n",
       "      <td>18.1</td>\n",
       "      <td>24.1</td>\n",
       "      <td>972.6</td>\n",
       "      <td>2024</td>\n",
       "      <td>03</td>\n",
       "      <td>1</td>\n",
       "    </tr>\n",
       "    <tr>\n",
       "      <th>2042</th>\n",
       "      <td>2024-03-26 02:00:00</td>\n",
       "      <td>17.3</td>\n",
       "      <td>25.4</td>\n",
       "      <td>972.6</td>\n",
       "      <td>2024</td>\n",
       "      <td>03</td>\n",
       "      <td>2</td>\n",
       "    </tr>\n",
       "    <tr>\n",
       "      <th>2065</th>\n",
       "      <td>2024-03-27 01:00:00</td>\n",
       "      <td>15.4</td>\n",
       "      <td>15.3</td>\n",
       "      <td>978.2</td>\n",
       "      <td>2024</td>\n",
       "      <td>03</td>\n",
       "      <td>1</td>\n",
       "    </tr>\n",
       "    <tr>\n",
       "      <th>2066</th>\n",
       "      <td>2024-03-27 02:00:00</td>\n",
       "      <td>14.4</td>\n",
       "      <td>10.0</td>\n",
       "      <td>979.1</td>\n",
       "      <td>2024</td>\n",
       "      <td>03</td>\n",
       "      <td>2</td>\n",
       "    </tr>\n",
       "  </tbody>\n",
       "</table>\n",
       "<p>174 rows × 7 columns</p>\n",
       "</div>"
      ],
      "text/plain": [
       "                    time  temp  speed   pres  year month  hour\n",
       "1    2024-01-01 01:00:00  20.0   23.1  977.4  2024    01     1\n",
       "2    2024-01-01 02:00:00  18.2   17.0  978.3  2024    01     2\n",
       "25   2024-01-02 01:00:00  15.9   22.9  977.9  2024    01     1\n",
       "26   2024-01-02 02:00:00  15.1   22.1  977.9  2024    01     2\n",
       "49   2024-01-03 01:00:00  25.1   18.3  975.7  2024    01     1\n",
       "...                  ...   ...    ...    ...   ...   ...   ...\n",
       "2018 2024-03-25 02:00:00  13.7   18.6  981.8  2024    03     2\n",
       "2041 2024-03-26 01:00:00  18.1   24.1  972.6  2024    03     1\n",
       "2042 2024-03-26 02:00:00  17.3   25.4  972.6  2024    03     2\n",
       "2065 2024-03-27 01:00:00  15.4   15.3  978.2  2024    03     1\n",
       "2066 2024-03-27 02:00:00  14.4   10.0  979.1  2024    03     2\n",
       "\n",
       "[174 rows x 7 columns]"
      ]
     },
     "execution_count": 26,
     "metadata": {},
     "output_type": "execute_result"
    }
   ],
   "source": [
    "df_day"
   ]
  },
  {
   "cell_type": "markdown",
   "metadata": {},
   "source": [
    "### En esta Seccion se crean, si no existen las tablas en la base de datos Postgresql\n",
    "### Y se actualizan con los df que solicita el cliente.\n",
    "\n",
    "Por favor Guido, ten en cuenta mi limitacion en la programacion.\n",
    "Seguramente este codigo se puede mejorar mucho.\n",
    "Ademas la subida a la base de datos demora bastante."
   ]
  },
  {
   "cell_type": "code",
   "execution_count": 28,
   "metadata": {},
   "outputs": [
    {
     "name": "stdout",
     "output_type": "stream",
     "text": [
      "Tabla eduardofarina_3 creada exitosamente en PostgreSQL \n",
      "Tabla eduardofarina_3 actualizada con datos exitosamente\n",
      "Conexión a PostgreSQL cerrada\n"
     ]
    }
   ],
   "source": [
    "#Se llama a la funcion 3 veces para crear las tres tablas solicitadas.\n",
    "#Tabla con los datos completos\n",
    "createDataBaseTable('eduardofarina_datos', df)\n",
    "\n",
    "#Tabla con los datos split, solo horarios Diurnos\n",
    "createDataBaseTable('eduardofarina_day', df_day)\n",
    "\n",
    "#Tabla con los datos split, solo horarios nocturnos\n",
    "createDataBaseTable('eduardofarina_night', df_night)"
   ]
  },
  {
   "cell_type": "markdown",
   "metadata": {},
   "source": [
    "### Fin de TP-2"
   ]
  }
 ],
 "metadata": {
  "kernelspec": {
   "display_name": "Python 3",
   "language": "python",
   "name": "python3"
  },
  "language_info": {
   "codemirror_mode": {
    "name": "ipython",
    "version": 3
   },
   "file_extension": ".py",
   "mimetype": "text/x-python",
   "name": "python",
   "nbconvert_exporter": "python",
   "pygments_lexer": "ipython3",
   "version": "3.9.12"
  }
 },
 "nbformat": 4,
 "nbformat_minor": 2
}
