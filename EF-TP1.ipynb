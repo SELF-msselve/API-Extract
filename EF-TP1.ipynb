{
 "cells": [
  {
   "cell_type": "markdown",
   "metadata": {},
   "source": [
    "#### Se instalan las librerias principales"
   ]
  },
  {
   "cell_type": "code",
   "execution_count": null,
   "metadata": {},
   "outputs": [],
   "source": [
    "!pip install requests\n",
    "!pip install fastparquet\n",
    "!pip install pandas"
   ]
  },
  {
   "cell_type": "markdown",
   "metadata": {},
   "source": [
    "#### Se importan las Librerias"
   ]
  },
  {
   "cell_type": "code",
   "execution_count": 1,
   "metadata": {},
   "outputs": [
    {
     "name": "stderr",
     "output_type": "stream",
     "text": [
      "/Users/eduardo/opt/anaconda3/lib/python3.9/site-packages/pandas/core/computation/expressions.py:21: UserWarning: Pandas requires version '2.8.4' or newer of 'numexpr' (version '2.8.1' currently installed).\n",
      "  from pandas.core.computation.check import NUMEXPR_INSTALLED\n",
      "/Users/eduardo/opt/anaconda3/lib/python3.9/site-packages/pandas/core/arrays/masked.py:60: UserWarning: Pandas requires version '1.3.6' or newer of 'bottleneck' (version '1.3.4' currently installed).\n",
      "  from pandas.core import (\n"
     ]
    }
   ],
   "source": [
    "import requests\n",
    "import pandas as pd\n",
    "import os"
   ]
  },
  {
   "cell_type": "markdown",
   "metadata": {},
   "source": [
    "#### Seccion funciones que extraen de las API"
   ]
  },
  {
   "cell_type": "code",
   "execution_count": 2,
   "metadata": {},
   "outputs": [],
   "source": [
    "# Esta funcion extrae las coordenadas geograficas de la ciudad ingresada.\n",
    "# Devuelve un df con los resultados.\n",
    "\n",
    "def get_city(cityName, country, headers):\n",
    "    baseUrl = 'https://api.api-ninjas.com/v1/geocoding?city=' + cityName + '&country=' + country\n",
    "    response = requests.get(baseUrl, headers)\n",
    "    adress = response.json()\n",
    "    if len(adress) == 0:\n",
    "        print('Ciudad no encontrada')\n",
    "        return pd.DataFrame()\n",
    "    else:\n",
    "        return pd.DataFrame.from_dict(adress)\n",
    "\n",
    "       \n",
    "def get_weather(cityCoord, fechaStart, fechafin):\n",
    "    clima = 'https://api.open-meteo.com/v1/forecast?latitude=' + str(cityCoord.iloc[0,1]) + '&longitude=' + str(cityCoord.iloc[0,2]) + '&hourly=temperature_2m,wind_speed_10m&start_date=' + fechaStart + '&end_date=' + fechafin\n",
    "    \n",
    "    response = requests.get(clima)\n",
    "    response_dict = response.json()\n",
    "    return pd.DataFrame.from_dict(response_dict['hourly'])\n",
    "    "
   ]
  },
  {
   "cell_type": "markdown",
   "metadata": {},
   "source": [
    "#### Seccion funciones de verificacion de datos"
   ]
  },
  {
   "cell_type": "code",
   "execution_count": 20,
   "metadata": {},
   "outputs": [],
   "source": [
    "# Esta funcion intentria verificar si se encuentra mas de una ciudad con el mismo nombre en un mismo pais.\n",
    "# La dejo para mas adelante que el usuario por ejemplo seleccione el numero de la ciudad deseada.\n",
    "\n",
    "def check_city(cityCoordDf):\n",
    "    if len(cityCoordDf) == 0:\n",
    "        print('Por favor ingrese correctamente el nombre de la ciudad')\n",
    "    elif len(cityCoordDf) == 1:\n",
    "        print('Ciudad encontrada correctamente')\n",
    "        print(cityCoordDf.iloc[0,0])\n",
    "        return cityCoordDf\n",
    "    else:\n",
    "        print(cityCoordDf)\n",
    "        #return cityCoordDf\n",
    "        num = int(input(\"Elija el numero de la ciudad deseada: \"))\n",
    "        #df = pd.DataFrame(cityCoordDf.iloc[num,]).transpose()\n",
    "        return pd.DataFrame(cityCoordDf.iloc[num,]).transpose()\n",
    "        "
   ]
  },
  {
   "cell_type": "markdown",
   "metadata": {},
   "source": [
    "#### Seccion Resguardo de Datos"
   ]
  },
  {
   "cell_type": "code",
   "execution_count": 48,
   "metadata": {},
   "outputs": [],
   "source": [
    "def saveDataCity(df):\n",
    "    \n",
    "    directoryPath = 'weather/' + df.iloc[0,0] + '/'\n",
    "    dfName = directoryPath + df.iloc[0,0] + '.csv'\n",
    "    \n",
    "    directory = os.path.dirname(directoryPath)\n",
    "    if directory and not os.path.exists(directory):\n",
    "        os.makedirs(directory)\n",
    "    \n",
    "    df.to_csv(dfName, sep='\\t')\n",
    "       \n",
    "\n",
    "def saveDataParquet(df, cityCoord, partitionCols=None):\n",
    "    \n",
    "    directoryPath = 'weather/' + cityCoord.iloc[0,0] + '/bronce/data'\n",
    "    \n",
    "    directory = os.path.dirname(directoryPath)\n",
    "    if directory and not os.path.exists(directory):\n",
    "        os.makedirs(directory)\n",
    "    \n",
    "    df.to_parquet(\n",
    "        directoryPath,\n",
    "        engine = 'fastparquet')#,\n",
    "        #partitionCols = partitionCols)\n",
    "        \n",
    "    \n",
    "    "
   ]
  },
  {
   "cell_type": "markdown",
   "metadata": {},
   "source": [
    "#### Ingreso de datos para extraccion"
   ]
  },
  {
   "cell_type": "code",
   "execution_count": 5,
   "metadata": {},
   "outputs": [],
   "source": [
    "# Ingreso la ciudad a buscar.\n",
    "cityName = 'pico truncado'\n",
    "country = 'argentina'\n",
    "headers = {'X-Api-Key': 'YO3DOw3APQguBKsqQq0nMA==acw96vJrBQsSnpeG'}\n",
    "\n",
    "cityCoordDf = get_city(cityName, country, headers)\n",
    "\n"
   ]
  },
  {
   "cell_type": "code",
   "execution_count": 21,
   "metadata": {},
   "outputs": [
    {
     "name": "stdout",
     "output_type": "stream",
     "text": [
      "            name   latitude  longitude country                state\n",
      "0  Pico Truncado -46.799193 -67.957653      AR  Santa Cruz Province\n",
      "1  Pico Truncado -46.799193 -67.957653      AR  Santa Cruz Province\n",
      "2    Hipotecario -46.805757 -67.956324      AR  Santa Cruz Province\n",
      "            name   latitude  longitude country                state\n",
      "0  Pico Truncado -46.799193 -67.957653      AR  Santa Cruz Province\n"
     ]
    }
   ],
   "source": [
    "cityCoord = check_city(cityCoordDf)\n",
    "\n",
    "print(cityCoord)"
   ]
  },
  {
   "cell_type": "code",
   "execution_count": 23,
   "metadata": {},
   "outputs": [],
   "source": [
    "# Genero el directorio para esa ciudad\n",
    "# Y guardo las coordenadas Geograficas en un archivo csv\n",
    "saveDataCity(cityCoord)\n"
   ]
  },
  {
   "cell_type": "code",
   "execution_count": 52,
   "metadata": {},
   "outputs": [
    {
     "data": {
      "text/plain": [
       "<bound method NDFrame.head of                  time  temperature_2m  wind_speed_10m\n",
       "0    2024-03-17T00:00            11.3            28.6\n",
       "1    2024-03-17T01:00            10.4            28.4\n",
       "2    2024-03-17T02:00             9.6            25.0\n",
       "3    2024-03-17T03:00             8.1            25.8\n",
       "4    2024-03-17T04:00             7.3            26.9\n",
       "..                ...             ...             ...\n",
       "211  2024-03-25T19:00            16.6            38.9\n",
       "212  2024-03-25T20:00            16.5            38.8\n",
       "213  2024-03-25T21:00            16.1            37.8\n",
       "214  2024-03-25T22:00            15.0            35.2\n",
       "215  2024-03-25T23:00            13.6            32.4\n",
       "\n",
       "[216 rows x 3 columns]>"
      ]
     },
     "execution_count": 52,
     "metadata": {},
     "output_type": "execute_result"
    }
   ],
   "source": [
    "# Como la ciudad se extrajo con exito\n",
    "# Ahora consulto el clima\n",
    "\n",
    "# Antes se consulta las fechas a extraer.\n",
    "fechaStart = '2024-03-17'\n",
    "fechafin = '2024-03-25'\n",
    "\n",
    "weather = get_weather(cityCoord, fechaStart, fechafin)\n",
    "\n",
    "weather.head"
   ]
  },
  {
   "cell_type": "code",
   "execution_count": 45,
   "metadata": {},
   "outputs": [
    {
     "data": {
      "text/html": [
       "<div>\n",
       "<style scoped>\n",
       "    .dataframe tbody tr th:only-of-type {\n",
       "        vertical-align: middle;\n",
       "    }\n",
       "\n",
       "    .dataframe tbody tr th {\n",
       "        vertical-align: top;\n",
       "    }\n",
       "\n",
       "    .dataframe thead th {\n",
       "        text-align: right;\n",
       "    }\n",
       "</style>\n",
       "<table border=\"1\" class=\"dataframe\">\n",
       "  <thead>\n",
       "    <tr style=\"text-align: right;\">\n",
       "      <th></th>\n",
       "      <th>time</th>\n",
       "      <th>temperature_2m</th>\n",
       "      <th>wind_speed_10m</th>\n",
       "    </tr>\n",
       "  </thead>\n",
       "  <tbody>\n",
       "    <tr>\n",
       "      <th>0</th>\n",
       "      <td>2024-03-17T00:00</td>\n",
       "      <td>11.3</td>\n",
       "      <td>28.6</td>\n",
       "    </tr>\n",
       "    <tr>\n",
       "      <th>1</th>\n",
       "      <td>2024-03-17T01:00</td>\n",
       "      <td>10.4</td>\n",
       "      <td>28.4</td>\n",
       "    </tr>\n",
       "    <tr>\n",
       "      <th>2</th>\n",
       "      <td>2024-03-17T02:00</td>\n",
       "      <td>9.6</td>\n",
       "      <td>25.0</td>\n",
       "    </tr>\n",
       "    <tr>\n",
       "      <th>3</th>\n",
       "      <td>2024-03-17T03:00</td>\n",
       "      <td>8.1</td>\n",
       "      <td>25.8</td>\n",
       "    </tr>\n",
       "    <tr>\n",
       "      <th>4</th>\n",
       "      <td>2024-03-17T04:00</td>\n",
       "      <td>7.3</td>\n",
       "      <td>26.9</td>\n",
       "    </tr>\n",
       "  </tbody>\n",
       "</table>\n",
       "</div>"
      ],
      "text/plain": [
       "               time  temperature_2m  wind_speed_10m\n",
       "0  2024-03-17T00:00            11.3            28.6\n",
       "1  2024-03-17T01:00            10.4            28.4\n",
       "2  2024-03-17T02:00             9.6            25.0\n",
       "3  2024-03-17T03:00             8.1            25.8\n",
       "4  2024-03-17T04:00             7.3            26.9"
      ]
     },
     "execution_count": 45,
     "metadata": {},
     "output_type": "execute_result"
    }
   ],
   "source": [
    "weather.head()"
   ]
  },
  {
   "cell_type": "code",
   "execution_count": 53,
   "metadata": {},
   "outputs": [],
   "source": [
    "saveDataParquet(weather,cityCoord)"
   ]
  }
 ],
 "metadata": {
  "kernelspec": {
   "display_name": "Python 3",
   "language": "python",
   "name": "python3"
  },
  "language_info": {
   "codemirror_mode": {
    "name": "ipython",
    "version": 3
   },
   "file_extension": ".py",
   "mimetype": "text/x-python",
   "name": "python",
   "nbconvert_exporter": "python",
   "pygments_lexer": "ipython3",
   "version": "3.9.12"
  }
 },
 "nbformat": 4,
 "nbformat_minor": 2
}
