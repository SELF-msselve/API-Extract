{
 "cells": [
  {
   "cell_type": "markdown",
   "metadata": {},
   "source": [
    "#### Se instalan las librerias principales"
   ]
  },
  {
   "cell_type": "code",
   "execution_count": null,
   "metadata": {},
   "outputs": [],
   "source": [
    "!pip install requests\n",
    "!pip install fastparquet"
   ]
  },
  {
   "cell_type": "markdown",
   "metadata": {},
   "source": [
    "#### Se importan las Librerias"
   ]
  },
  {
   "cell_type": "code",
   "execution_count": 63,
   "metadata": {},
   "outputs": [],
   "source": [
    "import requests\n",
    "import pandas as pd\n",
    "import os"
   ]
  },
  {
   "cell_type": "markdown",
   "metadata": {},
   "source": [
    "#### Seccion funciones que extraen de las API"
   ]
  },
  {
   "cell_type": "code",
   "execution_count": 7,
   "metadata": {},
   "outputs": [],
   "source": [
    "# Esta funcion extrae las coordenadas geograficas de la ciudad ingresada.\n",
    "# Devuelve un df con los resultados.\n",
    "\n",
    "def get_city(cityName, country, headers):\n",
    "    baseUrl = 'https://api.api-ninjas.com/v1/geocoding?city=' + cityName + '&country=' + country\n",
    "    response = requests.get(baseUrl, headers)\n",
    "    adress = response.json()\n",
    "    if len(adress) == 0:\n",
    "        print('Ciudad no encontrada')\n",
    "        return pd.DataFrame()\n",
    "    else:\n",
    "        return pd.DataFrame.from_dict(adress)\n",
    "\n",
    "       \n",
    "def get_weather(cityCoord, fechaStart, fechafin):\n",
    "    clima = 'https://api.open-meteo.com/v1/forecast?latitude=' + str(cityCoord.iloc[0,1]) + '&longitude=' + str(cityCoord.iloc[0,2]) + '&hourly=temperature_2m,wind_speed_10m&start_date=' + fechaStart + '&end_date=' + fechafin\n",
    "    \n",
    "    response = requests.get(clima)\n",
    "    response_dict = response.json()\n",
    "    return pd.DataFrame.from_dict(response_dict['hourly'])\n",
    "    "
   ]
  },
  {
   "cell_type": "markdown",
   "metadata": {},
   "source": [
    "#### Seccion funciones de verificacion de datos"
   ]
  },
  {
   "cell_type": "code",
   "execution_count": 5,
   "metadata": {},
   "outputs": [],
   "source": [
    "# Esta funcion intentria verificar si se encuentra mas de una ciudad con el mismo nombre en un mismo pais.\n",
    "# La dejo para mas adelante que el usuario por ejemplo seleccione el numero de la ciudad deseada.\n",
    "\n",
    "def check_city(cityCoordDf):\n",
    "    if len(cityCoordDf) == 0:\n",
    "        print('Por favor ingrese correctamente el nombre de la ciudad')\n",
    "    elif len(cityCoordDf) == 1:\n",
    "        print('Ciudad encontrada correctamente')\n",
    "        print(cityCoordDf.iloc[0,0])\n",
    "        return cityCoordDf\n",
    "    else:\n",
    "        print(cityCoordDf)\n",
    "        num = int(input(\"Elija el numero de la ciudad deseada: \"))\n",
    "        #selectedCityCode = cityCoordDf.iloc[num,]\n",
    "        #check_city(selectedCityCode)"
   ]
  },
  {
   "cell_type": "markdown",
   "metadata": {},
   "source": [
    "#### Seccion Resguardo de Datos"
   ]
  },
  {
   "cell_type": "code",
   "execution_count": 67,
   "metadata": {},
   "outputs": [],
   "source": [
    "def saveDataCity(df):\n",
    "    \n",
    "    directoryPath = 'weather/' + df.iloc[0,0] + '/'\n",
    "    dfName = directoryPath + df.iloc[0,0] + '.csv'\n",
    "    \n",
    "    directory = os.path.dirname(directoryPath)\n",
    "    if directory and not os.path.exists(directory):\n",
    "        os.makedirs(directory)\n",
    "    \n",
    "    df.to_csv(dfName, sep='\\t')\n",
    "       \n",
    "\n",
    "def saveDataParquet(df, outputPath, partitionCols=None):\n",
    "    \n",
    "    directory = os.path.dirname(outputPath)\n",
    "    if directory and not os.path.exists(directory):\n",
    "        os.makedirs(directory)\n",
    "    \n",
    "    df.to_parquet(\n",
    "        outputPath,\n",
    "        engine = 'fastparquet',\n",
    "        partitionCols = partitionCols)\n",
    "    \n",
    "    "
   ]
  },
  {
   "cell_type": "markdown",
   "metadata": {},
   "source": [
    "#### Ingreso de datos para extraccion"
   ]
  },
  {
   "cell_type": "code",
   "execution_count": 8,
   "metadata": {},
   "outputs": [
    {
     "ename": "NameError",
     "evalue": "name 'requests' is not defined",
     "output_type": "error",
     "traceback": [
      "\u001b[0;31m---------------------------------------------------------------------------\u001b[0m",
      "\u001b[0;31mNameError\u001b[0m                                 Traceback (most recent call last)",
      "Input \u001b[0;32mIn [8]\u001b[0m, in \u001b[0;36m<cell line: 6>\u001b[0;34m()\u001b[0m\n\u001b[1;32m      3\u001b[0m country \u001b[38;5;241m=\u001b[39m \u001b[38;5;124m'\u001b[39m\u001b[38;5;124margentina\u001b[39m\u001b[38;5;124m'\u001b[39m\n\u001b[1;32m      4\u001b[0m headers \u001b[38;5;241m=\u001b[39m {\u001b[38;5;124m'\u001b[39m\u001b[38;5;124mX-Api-Key\u001b[39m\u001b[38;5;124m'\u001b[39m: \u001b[38;5;124m'\u001b[39m\u001b[38;5;124mYO3DOw3APQguBKsqQq0nMA==acw96vJrBQsSnpeG\u001b[39m\u001b[38;5;124m'\u001b[39m}\n\u001b[0;32m----> 6\u001b[0m cityCoordDf \u001b[38;5;241m=\u001b[39m \u001b[43mget_city\u001b[49m\u001b[43m(\u001b[49m\u001b[43mcityName\u001b[49m\u001b[43m,\u001b[49m\u001b[43m \u001b[49m\u001b[43mcountry\u001b[49m\u001b[43m,\u001b[49m\u001b[43m \u001b[49m\u001b[43mheaders\u001b[49m\u001b[43m)\u001b[49m\n\u001b[1;32m      8\u001b[0m cityCoord \u001b[38;5;241m=\u001b[39m check_city(cityCoordDf)\n",
      "Input \u001b[0;32mIn [7]\u001b[0m, in \u001b[0;36mget_city\u001b[0;34m(cityName, country, headers)\u001b[0m\n\u001b[1;32m      4\u001b[0m \u001b[38;5;28;01mdef\u001b[39;00m \u001b[38;5;21mget_city\u001b[39m(cityName, country, headers):\n\u001b[1;32m      5\u001b[0m     baseUrl \u001b[38;5;241m=\u001b[39m \u001b[38;5;124m'\u001b[39m\u001b[38;5;124mhttps://api.api-ninjas.com/v1/geocoding?city=\u001b[39m\u001b[38;5;124m'\u001b[39m \u001b[38;5;241m+\u001b[39m cityName \u001b[38;5;241m+\u001b[39m \u001b[38;5;124m'\u001b[39m\u001b[38;5;124m&country=\u001b[39m\u001b[38;5;124m'\u001b[39m \u001b[38;5;241m+\u001b[39m country\n\u001b[0;32m----> 6\u001b[0m     response \u001b[38;5;241m=\u001b[39m \u001b[43mrequests\u001b[49m\u001b[38;5;241m.\u001b[39mget(baseUrl, headers)\n\u001b[1;32m      7\u001b[0m     adress \u001b[38;5;241m=\u001b[39m response\u001b[38;5;241m.\u001b[39mjson()\n\u001b[1;32m      8\u001b[0m     \u001b[38;5;28;01mif\u001b[39;00m \u001b[38;5;28mlen\u001b[39m(adress) \u001b[38;5;241m==\u001b[39m \u001b[38;5;241m0\u001b[39m:\n",
      "\u001b[0;31mNameError\u001b[0m: name 'requests' is not defined"
     ]
    }
   ],
   "source": [
    "# Ingreso la ciudad a buscar.\n",
    "cityName = 'pico truncado'\n",
    "country = 'argentina'\n",
    "headers = {'X-Api-Key': 'YO3DOw3APQguBKsqQq0nMA==acw96vJrBQsSnpeG'}\n",
    "\n",
    "cityCoordDf = get_city(cityName, country, headers)\n",
    "\n",
    "cityCoord = check_city(cityCoordDf)"
   ]
  },
  {
   "cell_type": "code",
   "execution_count": 70,
   "metadata": {},
   "outputs": [
    {
     "data": {
      "text/plain": [
       "<bound method NDFrame.head of                 time  temperature_2m  wind_speed_10m\n",
       "0   2024-03-09T00:00            29.5             8.9\n",
       "1   2024-03-09T01:00            28.1             6.2\n",
       "2   2024-03-09T02:00            27.2             3.4\n",
       "3   2024-03-09T03:00            26.5             3.7\n",
       "4   2024-03-09T04:00            26.0             1.6\n",
       "5   2024-03-09T05:00            25.7             1.5\n",
       "6   2024-03-09T06:00            24.8             3.3\n",
       "7   2024-03-09T07:00            23.8             4.7\n",
       "8   2024-03-09T08:00            23.7             4.7\n",
       "9   2024-03-09T09:00            23.7             5.1\n",
       "10  2024-03-09T10:00            23.6             5.1\n",
       "11  2024-03-09T11:00            23.4             5.0\n",
       "12  2024-03-09T12:00            25.1             5.9\n",
       "13  2024-03-09T13:00            27.4             4.7\n",
       "14  2024-03-09T14:00            29.5             2.9\n",
       "15  2024-03-09T15:00            31.0             6.0\n",
       "16  2024-03-09T16:00            32.3             9.8\n",
       "17  2024-03-09T17:00            33.4            16.2\n",
       "18  2024-03-09T18:00            34.9            22.9\n",
       "19  2024-03-09T19:00            35.4            25.3\n",
       "20  2024-03-09T20:00            35.1            28.6\n",
       "21  2024-03-09T21:00            34.1            25.6\n",
       "22  2024-03-09T22:00            32.9            23.2\n",
       "23  2024-03-09T23:00            31.5            15.4\n",
       "24  2024-03-10T00:00            31.1            10.3\n",
       "25  2024-03-10T01:00            30.0             9.1\n",
       "26  2024-03-10T02:00            29.5             8.7\n",
       "27  2024-03-10T03:00            29.1             5.0\n",
       "28  2024-03-10T04:00            28.3             6.4\n",
       "29  2024-03-10T05:00            27.8             5.7\n",
       "30  2024-03-10T06:00            26.7             4.0\n",
       "31  2024-03-10T07:00            26.3             5.0\n",
       "32  2024-03-10T08:00            25.9             5.2\n",
       "33  2024-03-10T09:00            25.3             4.7\n",
       "34  2024-03-10T10:00            24.7             4.1\n",
       "35  2024-03-10T11:00            24.4             4.1\n",
       "36  2024-03-10T12:00            25.4             5.2\n",
       "37  2024-03-10T13:00            26.4             6.2\n",
       "38  2024-03-10T14:00            27.9            10.1\n",
       "39  2024-03-10T15:00            29.5            13.0\n",
       "40  2024-03-10T16:00            30.9            15.6\n",
       "41  2024-03-10T17:00            32.2            17.9\n",
       "42  2024-03-10T18:00            33.4            19.3\n",
       "43  2024-03-10T19:00            34.3            20.3\n",
       "44  2024-03-10T20:00            34.8            19.8\n",
       "45  2024-03-10T21:00            34.5            20.8\n",
       "46  2024-03-10T22:00            33.6            20.7\n",
       "47  2024-03-10T23:00            32.2            18.0>"
      ]
     },
     "execution_count": 70,
     "metadata": {},
     "output_type": "execute_result"
    }
   ],
   "source": [
    "# Como la ciudad se extrajo con exito\n",
    "# Ahora consulto el clima\n",
    "\n",
    "# Antes se consulta las fechas a extraer.\n",
    "fechaStart = '2024-03-09'\n",
    "fechafin = '2024-03-10'\n",
    "\n",
    "weather = get_weather(cityCoord, fechaStart, fechafin)\n",
    "\n",
    "weather.head"
   ]
  },
  {
   "cell_type": "code",
   "execution_count": null,
   "metadata": {},
   "outputs": [],
   "source": [
    "#Genero el directorio para esa ciudad\n",
    "saveDataCity(cityCoord)"
   ]
  }
 ],
 "metadata": {
  "kernelspec": {
   "display_name": "Python 3",
   "language": "python",
   "name": "python3"
  },
  "language_info": {
   "codemirror_mode": {
    "name": "ipython",
    "version": 3
   },
   "file_extension": ".py",
   "mimetype": "text/x-python",
   "name": "python",
   "nbconvert_exporter": "python",
   "pygments_lexer": "ipython3",
   "version": "3.9.12"
  }
 },
 "nbformat": 4,
 "nbformat_minor": 2
}
