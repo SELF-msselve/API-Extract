{
 "cells": [
  {
   "cell_type": "markdown",
   "metadata": {},
   "source": [
    "#### Se instalan las librerias principales"
   ]
  },
  {
   "cell_type": "code",
   "execution_count": null,
   "metadata": {},
   "outputs": [],
   "source": [
    "!pip install requests\n",
    "!pip install fastparquet\n",
    "!pip install pandas"
   ]
  },
  {
   "cell_type": "markdown",
   "metadata": {},
   "source": [
    "#### Se importan las Librerias"
   ]
  },
  {
   "cell_type": "code",
   "execution_count": 1,
   "metadata": {},
   "outputs": [
    {
     "name": "stderr",
     "output_type": "stream",
     "text": [
      "/Users/eduardo/opt/anaconda3/lib/python3.9/site-packages/pandas/core/computation/expressions.py:21: UserWarning: Pandas requires version '2.8.4' or newer of 'numexpr' (version '2.8.1' currently installed).\n",
      "  from pandas.core.computation.check import NUMEXPR_INSTALLED\n",
      "/Users/eduardo/opt/anaconda3/lib/python3.9/site-packages/pandas/core/arrays/masked.py:60: UserWarning: Pandas requires version '1.3.6' or newer of 'bottleneck' (version '1.3.4' currently installed).\n",
      "  from pandas.core import (\n"
     ]
    }
   ],
   "source": [
    "import requests\n",
    "import pandas as pd\n",
    "import os"
   ]
  },
  {
   "cell_type": "markdown",
   "metadata": {},
   "source": [
    "#### Seccion funciones que extraen de las API"
   ]
  },
  {
   "cell_type": "code",
   "execution_count": 2,
   "metadata": {},
   "outputs": [],
   "source": [
    "# Esta funcion extrae las coordenadas geograficas de la ciudad ingresada.\n",
    "# Devuelve un df con los resultados.\n",
    "\n",
    "def get_city(cityName, country, headers):\n",
    "    baseUrl = 'https://api.api-ninjas.com/v1/geocoding?city=' + cityName + '&country=' + country\n",
    "    response = requests.get(baseUrl, headers)\n",
    "    adress = response.json()\n",
    "    if len(adress) == 0:\n",
    "        print('Ciudad no encontrada')\n",
    "        return pd.DataFrame()\n",
    "    else:\n",
    "        return pd.DataFrame.from_dict(adress)\n",
    "\n",
    "       \n",
    "def get_weather(cityCoord, fechaStart, fechafin):\n",
    "    clima = 'https://api.open-meteo.com/v1/forecast?latitude=' + str(cityCoord.iloc[0,1]) + '&longitude=' + str(cityCoord.iloc[0,2]) + '&hourly=temperature_2m,wind_speed_10m&start_date=' + fechaStart + '&end_date=' + fechafin\n",
    "    \n",
    "    response = requests.get(clima)\n",
    "    response_dict = response.json()\n",
    "    return pd.DataFrame.from_dict(response_dict['hourly'])\n",
    "    "
   ]
  },
  {
   "cell_type": "markdown",
   "metadata": {},
   "source": [
    "#### Seccion funciones de verificacion de datos"
   ]
  },
  {
   "cell_type": "code",
   "execution_count": 24,
   "metadata": {},
   "outputs": [],
   "source": [
    "# Esta funcion intentria verificar si se encuentra mas de una ciudad con el mismo nombre en un mismo pais.\n",
    "# La dejo para mas adelante que el usuario por ejemplo seleccione el numero de la ciudad deseada.\n",
    "\n",
    "def check_city(cityCoordDf):\n",
    "    if len(cityCoordDf) == 0:\n",
    "        print('Por favor ingrese correctamente el nombre de la ciudad')\n",
    "    elif len(cityCoordDf) == 1:\n",
    "        print('Ciudad encontrada correctamente')\n",
    "        print(cityCoordDf.iloc[0,0])\n",
    "        return cityCoordDf\n",
    "    else:\n",
    "        print(cityCoordDf)\n",
    "        #return cityCoordDf\n",
    "        num = int(input(\"Elija el numero de la ciudad deseada: \"))\n",
    "        oneCity = multy_city(cityCoordDf, num)\n",
    "        check_city(oneCity)\n",
    "\n",
    "def multy_city(multyCity, num):\n",
    "    return multyCity.iloc[num,]\n",
    "    "
   ]
  },
  {
   "cell_type": "markdown",
   "metadata": {},
   "source": [
    "#### Seccion Resguardo de Datos"
   ]
  },
  {
   "cell_type": "code",
   "execution_count": 4,
   "metadata": {},
   "outputs": [],
   "source": [
    "def saveDataCity(df):\n",
    "    \n",
    "    directoryPath = 'weather/' + df.iloc[0,0] + '/'\n",
    "    dfName = directoryPath + df.iloc[0,0] + '.csv'\n",
    "    \n",
    "    directory = os.path.dirname(directoryPath)\n",
    "    if directory and not os.path.exists(directory):\n",
    "        os.makedirs(directory)\n",
    "    \n",
    "    df.to_csv(dfName, sep='\\t')\n",
    "       \n",
    "\n",
    "def saveDataParquet(df, outputPath, partitionCols=None):\n",
    "    \n",
    "    directory = os.path.dirname(outputPath)\n",
    "    if directory and not os.path.exists(directory):\n",
    "        os.makedirs(directory)\n",
    "    \n",
    "    df.to_parquet(\n",
    "        outputPath,\n",
    "        engine = 'fastparquet',\n",
    "        partitionCols = partitionCols)\n",
    "    \n",
    "    "
   ]
  },
  {
   "cell_type": "markdown",
   "metadata": {},
   "source": [
    "#### Ingreso de datos para extraccion"
   ]
  },
  {
   "cell_type": "code",
   "execution_count": 5,
   "metadata": {},
   "outputs": [],
   "source": [
    "# Ingreso la ciudad a buscar.\n",
    "cityName = 'pico truncado'\n",
    "country = 'argentina'\n",
    "headers = {'X-Api-Key': 'YO3DOw3APQguBKsqQq0nMA==acw96vJrBQsSnpeG'}\n",
    "\n",
    "cityCoordDf = get_city(cityName, country, headers)\n",
    "\n"
   ]
  },
  {
   "cell_type": "code",
   "execution_count": 25,
   "metadata": {},
   "outputs": [
    {
     "name": "stdout",
     "output_type": "stream",
     "text": [
      "            name   latitude  longitude country                state\n",
      "0  Pico Truncado -46.799193 -67.957653      AR  Santa Cruz Province\n",
      "1  Pico Truncado -46.799193 -67.957653      AR  Santa Cruz Province\n",
      "2    Hipotecario -46.805757 -67.956324      AR  Santa Cruz Province\n",
      "name               Pico Truncado\n",
      "latitude              -46.799193\n",
      "longitude             -67.957653\n",
      "country                       AR\n",
      "state        Santa Cruz Province\n",
      "Name: 1, dtype: object\n"
     ]
    },
    {
     "ename": "KeyboardInterrupt",
     "evalue": "Interrupted by user",
     "output_type": "error",
     "traceback": [
      "\u001b[0;31m---------------------------------------------------------------------------\u001b[0m",
      "\u001b[0;31mKeyboardInterrupt\u001b[0m                         Traceback (most recent call last)",
      "Input \u001b[0;32mIn [25]\u001b[0m, in \u001b[0;36m<cell line: 1>\u001b[0;34m()\u001b[0m\n\u001b[0;32m----> 1\u001b[0m cityCoord \u001b[38;5;241m=\u001b[39m \u001b[43mcheck_city\u001b[49m\u001b[43m(\u001b[49m\u001b[43mcityCoordDf\u001b[49m\u001b[43m)\u001b[49m\n",
      "Input \u001b[0;32mIn [24]\u001b[0m, in \u001b[0;36mcheck_city\u001b[0;34m(cityCoordDf)\u001b[0m\n\u001b[1;32m     14\u001b[0m num \u001b[38;5;241m=\u001b[39m \u001b[38;5;28mint\u001b[39m(\u001b[38;5;28minput\u001b[39m(\u001b[38;5;124m\"\u001b[39m\u001b[38;5;124mElija el numero de la ciudad deseada: \u001b[39m\u001b[38;5;124m\"\u001b[39m))\n\u001b[1;32m     15\u001b[0m oneCity \u001b[38;5;241m=\u001b[39m multy_city(cityCoordDf, num)\n\u001b[0;32m---> 16\u001b[0m \u001b[43mcheck_city\u001b[49m\u001b[43m(\u001b[49m\u001b[43moneCity\u001b[49m\u001b[43m)\u001b[49m\n",
      "Input \u001b[0;32mIn [24]\u001b[0m, in \u001b[0;36mcheck_city\u001b[0;34m(cityCoordDf)\u001b[0m\n\u001b[1;32m     12\u001b[0m \u001b[38;5;28mprint\u001b[39m(cityCoordDf)\n\u001b[1;32m     13\u001b[0m \u001b[38;5;66;03m#return cityCoordDf\u001b[39;00m\n\u001b[0;32m---> 14\u001b[0m num \u001b[38;5;241m=\u001b[39m \u001b[38;5;28mint\u001b[39m(\u001b[38;5;28;43minput\u001b[39;49m\u001b[43m(\u001b[49m\u001b[38;5;124;43m\"\u001b[39;49m\u001b[38;5;124;43mElija el numero de la ciudad deseada: \u001b[39;49m\u001b[38;5;124;43m\"\u001b[39;49m\u001b[43m)\u001b[49m)\n\u001b[1;32m     15\u001b[0m oneCity \u001b[38;5;241m=\u001b[39m multy_city(cityCoordDf, num)\n\u001b[1;32m     16\u001b[0m check_city(oneCity)\n",
      "File \u001b[0;32m~/opt/anaconda3/lib/python3.9/site-packages/ipykernel/kernelbase.py:1075\u001b[0m, in \u001b[0;36mKernel.raw_input\u001b[0;34m(self, prompt)\u001b[0m\n\u001b[1;32m   1071\u001b[0m \u001b[38;5;28;01mif\u001b[39;00m \u001b[38;5;129;01mnot\u001b[39;00m \u001b[38;5;28mself\u001b[39m\u001b[38;5;241m.\u001b[39m_allow_stdin:\n\u001b[1;32m   1072\u001b[0m     \u001b[38;5;28;01mraise\u001b[39;00m StdinNotImplementedError(\n\u001b[1;32m   1073\u001b[0m         \u001b[38;5;124m\"\u001b[39m\u001b[38;5;124mraw_input was called, but this frontend does not support input requests.\u001b[39m\u001b[38;5;124m\"\u001b[39m\n\u001b[1;32m   1074\u001b[0m     )\n\u001b[0;32m-> 1075\u001b[0m \u001b[38;5;28;01mreturn\u001b[39;00m \u001b[38;5;28;43mself\u001b[39;49m\u001b[38;5;241;43m.\u001b[39;49m\u001b[43m_input_request\u001b[49m\u001b[43m(\u001b[49m\n\u001b[1;32m   1076\u001b[0m \u001b[43m    \u001b[49m\u001b[38;5;28;43mstr\u001b[39;49m\u001b[43m(\u001b[49m\u001b[43mprompt\u001b[49m\u001b[43m)\u001b[49m\u001b[43m,\u001b[49m\n\u001b[1;32m   1077\u001b[0m \u001b[43m    \u001b[49m\u001b[38;5;28;43mself\u001b[39;49m\u001b[38;5;241;43m.\u001b[39;49m\u001b[43m_parent_ident\u001b[49m\u001b[43m[\u001b[49m\u001b[38;5;124;43m\"\u001b[39;49m\u001b[38;5;124;43mshell\u001b[39;49m\u001b[38;5;124;43m\"\u001b[39;49m\u001b[43m]\u001b[49m\u001b[43m,\u001b[49m\n\u001b[1;32m   1078\u001b[0m \u001b[43m    \u001b[49m\u001b[38;5;28;43mself\u001b[39;49m\u001b[38;5;241;43m.\u001b[39;49m\u001b[43mget_parent\u001b[49m\u001b[43m(\u001b[49m\u001b[38;5;124;43m\"\u001b[39;49m\u001b[38;5;124;43mshell\u001b[39;49m\u001b[38;5;124;43m\"\u001b[39;49m\u001b[43m)\u001b[49m\u001b[43m,\u001b[49m\n\u001b[1;32m   1079\u001b[0m \u001b[43m    \u001b[49m\u001b[43mpassword\u001b[49m\u001b[38;5;241;43m=\u001b[39;49m\u001b[38;5;28;43;01mFalse\u001b[39;49;00m\u001b[43m,\u001b[49m\n\u001b[1;32m   1080\u001b[0m \u001b[43m\u001b[49m\u001b[43m)\u001b[49m\n",
      "File \u001b[0;32m~/opt/anaconda3/lib/python3.9/site-packages/ipykernel/kernelbase.py:1120\u001b[0m, in \u001b[0;36mKernel._input_request\u001b[0;34m(self, prompt, ident, parent, password)\u001b[0m\n\u001b[1;32m   1117\u001b[0m             \u001b[38;5;28;01mbreak\u001b[39;00m\n\u001b[1;32m   1118\u001b[0m \u001b[38;5;28;01mexcept\u001b[39;00m \u001b[38;5;167;01mKeyboardInterrupt\u001b[39;00m:\n\u001b[1;32m   1119\u001b[0m     \u001b[38;5;66;03m# re-raise KeyboardInterrupt, to truncate traceback\u001b[39;00m\n\u001b[0;32m-> 1120\u001b[0m     \u001b[38;5;28;01mraise\u001b[39;00m \u001b[38;5;167;01mKeyboardInterrupt\u001b[39;00m(\u001b[38;5;124m\"\u001b[39m\u001b[38;5;124mInterrupted by user\u001b[39m\u001b[38;5;124m\"\u001b[39m) \u001b[38;5;28;01mfrom\u001b[39;00m \u001b[38;5;28mNone\u001b[39m\n\u001b[1;32m   1121\u001b[0m \u001b[38;5;28;01mexcept\u001b[39;00m \u001b[38;5;167;01mException\u001b[39;00m:\n\u001b[1;32m   1122\u001b[0m     \u001b[38;5;28mself\u001b[39m\u001b[38;5;241m.\u001b[39mlog\u001b[38;5;241m.\u001b[39mwarning(\u001b[38;5;124m\"\u001b[39m\u001b[38;5;124mInvalid Message:\u001b[39m\u001b[38;5;124m\"\u001b[39m, exc_info\u001b[38;5;241m=\u001b[39m\u001b[38;5;28;01mTrue\u001b[39;00m)\n",
      "\u001b[0;31mKeyboardInterrupt\u001b[0m: Interrupted by user"
     ]
    }
   ],
   "source": [
    "cityCoord = check_city(cityCoordDf)"
   ]
  },
  {
   "cell_type": "code",
   "execution_count": 23,
   "metadata": {},
   "outputs": [
    {
     "name": "stdout",
     "output_type": "stream",
     "text": [
      "name               Pico Truncado\n",
      "latitude              -46.799193\n",
      "longitude             -67.957653\n",
      "country                       AR\n",
      "state        Santa Cruz Province\n",
      "Name: 0, dtype: object\n"
     ]
    }
   ],
   "source": [
    "print(cityCoord.iloc[0,])"
   ]
  },
  {
   "cell_type": "code",
   "execution_count": 70,
   "metadata": {},
   "outputs": [
    {
     "data": {
      "text/plain": [
       "<bound method NDFrame.head of                 time  temperature_2m  wind_speed_10m\n",
       "0   2024-03-09T00:00            29.5             8.9\n",
       "1   2024-03-09T01:00            28.1             6.2\n",
       "2   2024-03-09T02:00            27.2             3.4\n",
       "3   2024-03-09T03:00            26.5             3.7\n",
       "4   2024-03-09T04:00            26.0             1.6\n",
       "5   2024-03-09T05:00            25.7             1.5\n",
       "6   2024-03-09T06:00            24.8             3.3\n",
       "7   2024-03-09T07:00            23.8             4.7\n",
       "8   2024-03-09T08:00            23.7             4.7\n",
       "9   2024-03-09T09:00            23.7             5.1\n",
       "10  2024-03-09T10:00            23.6             5.1\n",
       "11  2024-03-09T11:00            23.4             5.0\n",
       "12  2024-03-09T12:00            25.1             5.9\n",
       "13  2024-03-09T13:00            27.4             4.7\n",
       "14  2024-03-09T14:00            29.5             2.9\n",
       "15  2024-03-09T15:00            31.0             6.0\n",
       "16  2024-03-09T16:00            32.3             9.8\n",
       "17  2024-03-09T17:00            33.4            16.2\n",
       "18  2024-03-09T18:00            34.9            22.9\n",
       "19  2024-03-09T19:00            35.4            25.3\n",
       "20  2024-03-09T20:00            35.1            28.6\n",
       "21  2024-03-09T21:00            34.1            25.6\n",
       "22  2024-03-09T22:00            32.9            23.2\n",
       "23  2024-03-09T23:00            31.5            15.4\n",
       "24  2024-03-10T00:00            31.1            10.3\n",
       "25  2024-03-10T01:00            30.0             9.1\n",
       "26  2024-03-10T02:00            29.5             8.7\n",
       "27  2024-03-10T03:00            29.1             5.0\n",
       "28  2024-03-10T04:00            28.3             6.4\n",
       "29  2024-03-10T05:00            27.8             5.7\n",
       "30  2024-03-10T06:00            26.7             4.0\n",
       "31  2024-03-10T07:00            26.3             5.0\n",
       "32  2024-03-10T08:00            25.9             5.2\n",
       "33  2024-03-10T09:00            25.3             4.7\n",
       "34  2024-03-10T10:00            24.7             4.1\n",
       "35  2024-03-10T11:00            24.4             4.1\n",
       "36  2024-03-10T12:00            25.4             5.2\n",
       "37  2024-03-10T13:00            26.4             6.2\n",
       "38  2024-03-10T14:00            27.9            10.1\n",
       "39  2024-03-10T15:00            29.5            13.0\n",
       "40  2024-03-10T16:00            30.9            15.6\n",
       "41  2024-03-10T17:00            32.2            17.9\n",
       "42  2024-03-10T18:00            33.4            19.3\n",
       "43  2024-03-10T19:00            34.3            20.3\n",
       "44  2024-03-10T20:00            34.8            19.8\n",
       "45  2024-03-10T21:00            34.5            20.8\n",
       "46  2024-03-10T22:00            33.6            20.7\n",
       "47  2024-03-10T23:00            32.2            18.0>"
      ]
     },
     "execution_count": 70,
     "metadata": {},
     "output_type": "execute_result"
    }
   ],
   "source": [
    "# Como la ciudad se extrajo con exito\n",
    "# Ahora consulto el clima\n",
    "\n",
    "# Antes se consulta las fechas a extraer.\n",
    "fechaStart = '2024-03-09'\n",
    "fechafin = '2024-03-10'\n",
    "\n",
    "weather = get_weather(cityCoord, fechaStart, fechafin)\n",
    "\n",
    "weather.head"
   ]
  },
  {
   "cell_type": "code",
   "execution_count": null,
   "metadata": {},
   "outputs": [],
   "source": [
    "#Genero el directorio para esa ciudad\n",
    "saveDataCity(cityCoord)"
   ]
  }
 ],
 "metadata": {
  "kernelspec": {
   "display_name": "Python 3",
   "language": "python",
   "name": "python3"
  },
  "language_info": {
   "codemirror_mode": {
    "name": "ipython",
    "version": 3
   },
   "file_extension": ".py",
   "mimetype": "text/x-python",
   "name": "python",
   "nbconvert_exporter": "python",
   "pygments_lexer": "ipython3",
   "version": "3.9.12"
  }
 },
 "nbformat": 4,
 "nbformat_minor": 2
}
